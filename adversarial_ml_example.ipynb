{
  "nbformat": 4,
  "nbformat_minor": 0,
  "metadata": {
    "colab": {
      "name": "adversarial_ml_example.ipynb",
      "provenance": [],
      "collapsed_sections": []
    },
    "kernelspec": {
      "name": "python3",
      "display_name": "Python 3"
    },
    "language_info": {
      "name": "python"
    },
    "accelerator": "GPU",
    "gpuClass": "standard"
  },
  "cells": [
    {
      "cell_type": "code",
      "execution_count": 1,
      "metadata": {
        "id": "kSmp8etkMP_u"
      },
      "outputs": [],
      "source": [
        "import cv2\n",
        "import time\n",
        "import torch\n",
        "import numpy as np\n",
        "import pandas as pd\n",
        "import torch.nn as nn\n",
        "import matplotlib.pyplot as plt\n",
        "from sklearn.metrics import classification_report\n",
        "\n",
        "%matplotlib inline\n"
      ]
    },
    {
      "cell_type": "code",
      "source": [
        "# set the seed of the random number generator to reproduce the same results \n",
        "rand_seed = 0\n",
        "np.random.seed(rand_seed)\n",
        "torch.manual_seed(rand_seed)"
      ],
      "metadata": {
        "colab": {
          "base_uri": "https://localhost:8080/"
        },
        "id": "yv1cqdcPPjSY",
        "outputId": "a45a3635-1749-495e-a96b-7d54a780ffb3"
      },
      "execution_count": 2,
      "outputs": [
        {
          "output_type": "execute_result",
          "data": {
            "text/plain": [
              "<torch._C.Generator at 0x7f0d32ce9cb0>"
            ]
          },
          "metadata": {},
          "execution_count": 2
        }
      ]
    },
    {
      "cell_type": "code",
      "source": [
        "# download prepared data and unzip it\n",
        "!wget https://github.com/farisalasmary/adversarial-machine-learning-example/raw/master/mnist_data.zip\n",
        "!unzip mnist_data.zip"
      ],
      "metadata": {
        "colab": {
          "base_uri": "https://localhost:8080/"
        },
        "id": "QCUtfxfCN7DN",
        "outputId": "dbe4ff01-b4e8-40fb-d8ec-2ae53ccba658"
      },
      "execution_count": 3,
      "outputs": [
        {
          "output_type": "stream",
          "name": "stdout",
          "text": [
            "--2022-07-16 04:25:57--  https://github.com/farisalasmary/adversarial-machine-learning-example/raw/master/mnist_data.zip\n",
            "Resolving github.com (github.com)... 140.82.112.3\n",
            "Connecting to github.com (github.com)|140.82.112.3|:443... connected.\n",
            "HTTP request sent, awaiting response... 302 Found\n",
            "Location: https://raw.githubusercontent.com/farisalasmary/adversarial-machine-learning-example/master/mnist_data.zip [following]\n",
            "--2022-07-16 04:25:57--  https://raw.githubusercontent.com/farisalasmary/adversarial-machine-learning-example/master/mnist_data.zip\n",
            "Resolving raw.githubusercontent.com (raw.githubusercontent.com)... 185.199.108.133, 185.199.109.133, 185.199.110.133, ...\n",
            "Connecting to raw.githubusercontent.com (raw.githubusercontent.com)|185.199.108.133|:443... connected.\n",
            "HTTP request sent, awaiting response... 200 OK\n",
            "Length: 15495916 (15M) [application/zip]\n",
            "Saving to: ‘mnist_data.zip’\n",
            "\n",
            "mnist_data.zip      100%[===================>]  14.78M  --.-KB/s    in 0.1s    \n",
            "\n",
            "2022-07-16 04:25:57 (132 MB/s) - ‘mnist_data.zip’ saved [15495916/15495916]\n",
            "\n",
            "Archive:  mnist_data.zip\n",
            "  inflating: mnist_test.csv          \n",
            "  inflating: mnist_train.csv         \n"
          ]
        }
      ]
    },
    {
      "cell_type": "markdown",
      "source": [
        "# Training CNN model on MNIST dataset"
      ],
      "metadata": {
        "id": "W5eR9KhRQ4yy"
      }
    },
    {
      "cell_type": "code",
      "source": [
        "# load MNIST data\n",
        "train_data = pd.read_csv('mnist_train.csv')\n",
        "test_data = pd.read_csv('mnist_test.csv')\n"
      ],
      "metadata": {
        "id": "DiQyu9E6OCgR"
      },
      "execution_count": 4,
      "outputs": []
    },
    {
      "cell_type": "code",
      "source": [
        "train_data.head(5)"
      ],
      "metadata": {
        "colab": {
          "base_uri": "https://localhost:8080/",
          "height": 236
        },
        "id": "1v8-Xdf_RHRg",
        "outputId": "b28eaf4a-f1c9-42d4-9757-0e8c27b49efd"
      },
      "execution_count": 5,
      "outputs": [
        {
          "output_type": "execute_result",
          "data": {
            "text/plain": [
              "   label  1x1  1x2  1x3  1x4  1x5  1x6  1x7  1x8  1x9  ...  28x19  28x20  \\\n",
              "0      5    0    0    0    0    0    0    0    0    0  ...      0      0   \n",
              "1      0    0    0    0    0    0    0    0    0    0  ...      0      0   \n",
              "2      4    0    0    0    0    0    0    0    0    0  ...      0      0   \n",
              "3      1    0    0    0    0    0    0    0    0    0  ...      0      0   \n",
              "4      9    0    0    0    0    0    0    0    0    0  ...      0      0   \n",
              "\n",
              "   28x21  28x22  28x23  28x24  28x25  28x26  28x27  28x28  \n",
              "0      0      0      0      0      0      0      0      0  \n",
              "1      0      0      0      0      0      0      0      0  \n",
              "2      0      0      0      0      0      0      0      0  \n",
              "3      0      0      0      0      0      0      0      0  \n",
              "4      0      0      0      0      0      0      0      0  \n",
              "\n",
              "[5 rows x 785 columns]"
            ],
            "text/html": [
              "\n",
              "  <div id=\"df-0fc4e192-4661-4ff2-9d19-e7da09e17d75\">\n",
              "    <div class=\"colab-df-container\">\n",
              "      <div>\n",
              "<style scoped>\n",
              "    .dataframe tbody tr th:only-of-type {\n",
              "        vertical-align: middle;\n",
              "    }\n",
              "\n",
              "    .dataframe tbody tr th {\n",
              "        vertical-align: top;\n",
              "    }\n",
              "\n",
              "    .dataframe thead th {\n",
              "        text-align: right;\n",
              "    }\n",
              "</style>\n",
              "<table border=\"1\" class=\"dataframe\">\n",
              "  <thead>\n",
              "    <tr style=\"text-align: right;\">\n",
              "      <th></th>\n",
              "      <th>label</th>\n",
              "      <th>1x1</th>\n",
              "      <th>1x2</th>\n",
              "      <th>1x3</th>\n",
              "      <th>1x4</th>\n",
              "      <th>1x5</th>\n",
              "      <th>1x6</th>\n",
              "      <th>1x7</th>\n",
              "      <th>1x8</th>\n",
              "      <th>1x9</th>\n",
              "      <th>...</th>\n",
              "      <th>28x19</th>\n",
              "      <th>28x20</th>\n",
              "      <th>28x21</th>\n",
              "      <th>28x22</th>\n",
              "      <th>28x23</th>\n",
              "      <th>28x24</th>\n",
              "      <th>28x25</th>\n",
              "      <th>28x26</th>\n",
              "      <th>28x27</th>\n",
              "      <th>28x28</th>\n",
              "    </tr>\n",
              "  </thead>\n",
              "  <tbody>\n",
              "    <tr>\n",
              "      <th>0</th>\n",
              "      <td>5</td>\n",
              "      <td>0</td>\n",
              "      <td>0</td>\n",
              "      <td>0</td>\n",
              "      <td>0</td>\n",
              "      <td>0</td>\n",
              "      <td>0</td>\n",
              "      <td>0</td>\n",
              "      <td>0</td>\n",
              "      <td>0</td>\n",
              "      <td>...</td>\n",
              "      <td>0</td>\n",
              "      <td>0</td>\n",
              "      <td>0</td>\n",
              "      <td>0</td>\n",
              "      <td>0</td>\n",
              "      <td>0</td>\n",
              "      <td>0</td>\n",
              "      <td>0</td>\n",
              "      <td>0</td>\n",
              "      <td>0</td>\n",
              "    </tr>\n",
              "    <tr>\n",
              "      <th>1</th>\n",
              "      <td>0</td>\n",
              "      <td>0</td>\n",
              "      <td>0</td>\n",
              "      <td>0</td>\n",
              "      <td>0</td>\n",
              "      <td>0</td>\n",
              "      <td>0</td>\n",
              "      <td>0</td>\n",
              "      <td>0</td>\n",
              "      <td>0</td>\n",
              "      <td>...</td>\n",
              "      <td>0</td>\n",
              "      <td>0</td>\n",
              "      <td>0</td>\n",
              "      <td>0</td>\n",
              "      <td>0</td>\n",
              "      <td>0</td>\n",
              "      <td>0</td>\n",
              "      <td>0</td>\n",
              "      <td>0</td>\n",
              "      <td>0</td>\n",
              "    </tr>\n",
              "    <tr>\n",
              "      <th>2</th>\n",
              "      <td>4</td>\n",
              "      <td>0</td>\n",
              "      <td>0</td>\n",
              "      <td>0</td>\n",
              "      <td>0</td>\n",
              "      <td>0</td>\n",
              "      <td>0</td>\n",
              "      <td>0</td>\n",
              "      <td>0</td>\n",
              "      <td>0</td>\n",
              "      <td>...</td>\n",
              "      <td>0</td>\n",
              "      <td>0</td>\n",
              "      <td>0</td>\n",
              "      <td>0</td>\n",
              "      <td>0</td>\n",
              "      <td>0</td>\n",
              "      <td>0</td>\n",
              "      <td>0</td>\n",
              "      <td>0</td>\n",
              "      <td>0</td>\n",
              "    </tr>\n",
              "    <tr>\n",
              "      <th>3</th>\n",
              "      <td>1</td>\n",
              "      <td>0</td>\n",
              "      <td>0</td>\n",
              "      <td>0</td>\n",
              "      <td>0</td>\n",
              "      <td>0</td>\n",
              "      <td>0</td>\n",
              "      <td>0</td>\n",
              "      <td>0</td>\n",
              "      <td>0</td>\n",
              "      <td>...</td>\n",
              "      <td>0</td>\n",
              "      <td>0</td>\n",
              "      <td>0</td>\n",
              "      <td>0</td>\n",
              "      <td>0</td>\n",
              "      <td>0</td>\n",
              "      <td>0</td>\n",
              "      <td>0</td>\n",
              "      <td>0</td>\n",
              "      <td>0</td>\n",
              "    </tr>\n",
              "    <tr>\n",
              "      <th>4</th>\n",
              "      <td>9</td>\n",
              "      <td>0</td>\n",
              "      <td>0</td>\n",
              "      <td>0</td>\n",
              "      <td>0</td>\n",
              "      <td>0</td>\n",
              "      <td>0</td>\n",
              "      <td>0</td>\n",
              "      <td>0</td>\n",
              "      <td>0</td>\n",
              "      <td>...</td>\n",
              "      <td>0</td>\n",
              "      <td>0</td>\n",
              "      <td>0</td>\n",
              "      <td>0</td>\n",
              "      <td>0</td>\n",
              "      <td>0</td>\n",
              "      <td>0</td>\n",
              "      <td>0</td>\n",
              "      <td>0</td>\n",
              "      <td>0</td>\n",
              "    </tr>\n",
              "  </tbody>\n",
              "</table>\n",
              "<p>5 rows × 785 columns</p>\n",
              "</div>\n",
              "      <button class=\"colab-df-convert\" onclick=\"convertToInteractive('df-0fc4e192-4661-4ff2-9d19-e7da09e17d75')\"\n",
              "              title=\"Convert this dataframe to an interactive table.\"\n",
              "              style=\"display:none;\">\n",
              "        \n",
              "  <svg xmlns=\"http://www.w3.org/2000/svg\" height=\"24px\"viewBox=\"0 0 24 24\"\n",
              "       width=\"24px\">\n",
              "    <path d=\"M0 0h24v24H0V0z\" fill=\"none\"/>\n",
              "    <path d=\"M18.56 5.44l.94 2.06.94-2.06 2.06-.94-2.06-.94-.94-2.06-.94 2.06-2.06.94zm-11 1L8.5 8.5l.94-2.06 2.06-.94-2.06-.94L8.5 2.5l-.94 2.06-2.06.94zm10 10l.94 2.06.94-2.06 2.06-.94-2.06-.94-.94-2.06-.94 2.06-2.06.94z\"/><path d=\"M17.41 7.96l-1.37-1.37c-.4-.4-.92-.59-1.43-.59-.52 0-1.04.2-1.43.59L10.3 9.45l-7.72 7.72c-.78.78-.78 2.05 0 2.83L4 21.41c.39.39.9.59 1.41.59.51 0 1.02-.2 1.41-.59l7.78-7.78 2.81-2.81c.8-.78.8-2.07 0-2.86zM5.41 20L4 18.59l7.72-7.72 1.47 1.35L5.41 20z\"/>\n",
              "  </svg>\n",
              "      </button>\n",
              "      \n",
              "  <style>\n",
              "    .colab-df-container {\n",
              "      display:flex;\n",
              "      flex-wrap:wrap;\n",
              "      gap: 12px;\n",
              "    }\n",
              "\n",
              "    .colab-df-convert {\n",
              "      background-color: #E8F0FE;\n",
              "      border: none;\n",
              "      border-radius: 50%;\n",
              "      cursor: pointer;\n",
              "      display: none;\n",
              "      fill: #1967D2;\n",
              "      height: 32px;\n",
              "      padding: 0 0 0 0;\n",
              "      width: 32px;\n",
              "    }\n",
              "\n",
              "    .colab-df-convert:hover {\n",
              "      background-color: #E2EBFA;\n",
              "      box-shadow: 0px 1px 2px rgba(60, 64, 67, 0.3), 0px 1px 3px 1px rgba(60, 64, 67, 0.15);\n",
              "      fill: #174EA6;\n",
              "    }\n",
              "\n",
              "    [theme=dark] .colab-df-convert {\n",
              "      background-color: #3B4455;\n",
              "      fill: #D2E3FC;\n",
              "    }\n",
              "\n",
              "    [theme=dark] .colab-df-convert:hover {\n",
              "      background-color: #434B5C;\n",
              "      box-shadow: 0px 1px 3px 1px rgba(0, 0, 0, 0.15);\n",
              "      filter: drop-shadow(0px 1px 2px rgba(0, 0, 0, 0.3));\n",
              "      fill: #FFFFFF;\n",
              "    }\n",
              "  </style>\n",
              "\n",
              "      <script>\n",
              "        const buttonEl =\n",
              "          document.querySelector('#df-0fc4e192-4661-4ff2-9d19-e7da09e17d75 button.colab-df-convert');\n",
              "        buttonEl.style.display =\n",
              "          google.colab.kernel.accessAllowed ? 'block' : 'none';\n",
              "\n",
              "        async function convertToInteractive(key) {\n",
              "          const element = document.querySelector('#df-0fc4e192-4661-4ff2-9d19-e7da09e17d75');\n",
              "          const dataTable =\n",
              "            await google.colab.kernel.invokeFunction('convertToInteractive',\n",
              "                                                     [key], {});\n",
              "          if (!dataTable) return;\n",
              "\n",
              "          const docLinkHtml = 'Like what you see? Visit the ' +\n",
              "            '<a target=\"_blank\" href=https://colab.research.google.com/notebooks/data_table.ipynb>data table notebook</a>'\n",
              "            + ' to learn more about interactive tables.';\n",
              "          element.innerHTML = '';\n",
              "          dataTable['output_type'] = 'display_data';\n",
              "          await google.colab.output.renderOutput(dataTable, element);\n",
              "          const docLink = document.createElement('div');\n",
              "          docLink.innerHTML = docLinkHtml;\n",
              "          element.appendChild(docLink);\n",
              "        }\n",
              "      </script>\n",
              "    </div>\n",
              "  </div>\n",
              "  "
            ]
          },
          "metadata": {},
          "execution_count": 5
        }
      ]
    },
    {
      "cell_type": "code",
      "source": [
        "output = 'label' # labels column in the dataframe\n",
        "features = list(train_data.columns)\n",
        "features.remove(output)\n",
        "\n",
        "image_with_label = train_data.iloc[7] # pick an example and show its image\n",
        "\n",
        "\n",
        "label = image_with_label[output]\n",
        "image = image_with_label[features].values\n",
        "\n",
        "image = image.reshape(28, 28)\n",
        "\n",
        "print('The label is:', label)\n",
        "plt.imshow(image[0:784], cmap='gray')"
      ],
      "metadata": {
        "colab": {
          "base_uri": "https://localhost:8080/",
          "height": 302
        },
        "id": "5gB-K-84RL2C",
        "outputId": "29214a3a-2a1b-499d-e9e8-1893eae867b7"
      },
      "execution_count": 6,
      "outputs": [
        {
          "output_type": "stream",
          "name": "stdout",
          "text": [
            "The label is: 3\n"
          ]
        },
        {
          "output_type": "execute_result",
          "data": {
            "text/plain": [
              "<matplotlib.image.AxesImage at 0x7f0d08fd5290>"
            ]
          },
          "metadata": {},
          "execution_count": 6
        },
        {
          "output_type": "display_data",
          "data": {
            "text/plain": [
              "<Figure size 432x288 with 1 Axes>"
            ],
            "image/png": "[encoded data removed]"
          },
          "metadata": {
            "needs_background": "light"
          }
        }
      ]
    },
    {
      "cell_type": "code",
      "source": [
        "device = 'cuda' if torch.cuda.is_available() else 'cpu'\n",
        "print('Device: \"{}\"'.format(device))"
      ],
      "metadata": {
        "colab": {
          "base_uri": "https://localhost:8080/"
        },
        "id": "Kawqid5eSXis",
        "outputId": "525637fb-3ade-46bb-debd-ea05b5ca7813"
      },
      "execution_count": 7,
      "outputs": [
        {
          "output_type": "stream",
          "name": "stdout",
          "text": [
            "Device: \"cuda\"\n"
          ]
        }
      ]
    },
    {
      "cell_type": "code",
      "source": [
        "# convert data into PyTorch tensors\n",
        "X_train = train_data[features].values\n",
        "y_train = train_data[output].values\n",
        "\n",
        "X_test = test_data[features].values\n",
        "y_test = test_data[output].values\n",
        "\n",
        "X_train = torch.tensor(X_train).float().to(device)\n",
        "y_train = torch.tensor(y_train).float().to(device)\n",
        "X_test = torch.tensor(X_test).float().to(device)\n",
        "y_test = torch.tensor(y_test).float().to(device)"
      ],
      "metadata": {
        "id": "0Y2DOz2wSwP2"
      },
      "execution_count": 8,
      "outputs": []
    },
    {
      "cell_type": "code",
      "source": [
        "# data normalization\n",
        "train_mean, train_std = X_train.mean(0), (X_train.std(0))\n",
        "X_train = (X_train - train_mean) / (train_std + 1e-7)\n",
        "X_test = (X_test - train_mean) / (train_std + 1e-7)"
      ],
      "metadata": {
        "id": "DOI5gpn_S2kl"
      },
      "execution_count": 9,
      "outputs": []
    },
    {
      "cell_type": "code",
      "source": [
        "# return a mini batch of the given data with no. of examples = batch_size\n",
        "def batch_generator(X, y, batch_size=64, device='cpu', shuffle=True):\n",
        "    if shuffle:\n",
        "        shuffled_indices = torch.randperm(X.size()[0])\n",
        "        X = X[shuffled_indices, :]\n",
        "        y = y[shuffled_indices]\n",
        "\n",
        "    number_of_batches =  np.ceil(len(X) / batch_size).astype(int) # X_tensor.shape[0]\n",
        "    for i in range(number_of_batches):\n",
        "        X_mini_batch = X[i*batch_size : (i*batch_size + batch_size)]\n",
        "        y_mini_batch = y[i*batch_size : (i*batch_size + batch_size)]\n",
        "\n",
        "        yield X_mini_batch.reshape(len(X_mini_batch), 1, 28, 28).to(device), y_mini_batch.to(device)"
      ],
      "metadata": {
        "id": "FnYZaalITAZC"
      },
      "execution_count": 10,
      "outputs": []
    },
    {
      "cell_type": "code",
      "source": [
        "# creating a CNN model. You may try to create your own m ,model and apply the code.\n",
        "model = nn.Sequential(*[\n",
        "            nn.Conv2d(1, 30, 3),\n",
        "            nn.ReLU(),    \n",
        "            nn.Conv2d(30, 40, 5),\n",
        "            nn.ReLU(),\n",
        "            nn.MaxPool2d(3),\n",
        "\n",
        "            nn.Conv2d(40, 100, 3),\n",
        "            nn.ReLU(),\n",
        "            nn.MaxPool2d(2),\n",
        "            \n",
        "            nn.Flatten(),\n",
        "            nn.Dropout(0.5),\n",
        "            nn.Linear(400, 100),\n",
        "            nn.ReLU(),\n",
        "            nn.Dropout(0.5),\n",
        "            nn.Linear(100, 10)\n",
        "])\n",
        "model"
      ],
      "metadata": {
        "colab": {
          "base_uri": "https://localhost:8080/"
        },
        "id": "9T9nSm4WTAeL",
        "outputId": "50298532-a918-4f37-c65e-acc3519d3e8a"
      },
      "execution_count": 11,
      "outputs": [
        {
          "output_type": "execute_result",
          "data": {
            "text/plain": [
              "Sequential(\n",
              "  (0): Conv2d(1, 30, kernel_size=(3, 3), stride=(1, 1))\n",
              "  (1): ReLU()\n",
              "  (2): Conv2d(30, 40, kernel_size=(5, 5), stride=(1, 1))\n",
              "  (3): ReLU()\n",
              "  (4): MaxPool2d(kernel_size=3, stride=3, padding=0, dilation=1, ceil_mode=False)\n",
              "  (5): Conv2d(40, 100, kernel_size=(3, 3), stride=(1, 1))\n",
              "  (6): ReLU()\n",
              "  (7): MaxPool2d(kernel_size=2, stride=2, padding=0, dilation=1, ceil_mode=False)\n",
              "  (8): Flatten(start_dim=1, end_dim=-1)\n",
              "  (9): Dropout(p=0.5, inplace=False)\n",
              "  (10): Linear(in_features=400, out_features=100, bias=True)\n",
              "  (11): ReLU()\n",
              "  (12): Dropout(p=0.5, inplace=False)\n",
              "  (13): Linear(in_features=100, out_features=10, bias=True)\n",
              ")"
            ]
          },
          "metadata": {},
          "execution_count": 11
        }
      ]
    },
    {
      "cell_type": "code",
      "source": [
        "class AverageMeter(object):\n",
        "    \"\"\"Computes and stores the average and current value\"\"\"\n",
        "\n",
        "    def __init__(self):\n",
        "        self.reset()\n",
        "\n",
        "    def reset(self):\n",
        "        self.val = 0\n",
        "        self.avg = 0\n",
        "        self.sum = 0\n",
        "        self.count = 0\n",
        "\n",
        "    def update(self, val, n=1):\n",
        "        self.val = val\n",
        "        self.sum += val * n\n",
        "        self.count += n\n",
        "        self.avg = self.sum / self.count\n"
      ],
      "metadata": {
        "id": "sF0xisdcz_op"
      },
      "execution_count": 12,
      "outputs": []
    },
    {
      "cell_type": "code",
      "source": [
        "# use cross entropy loss\n",
        "criterion = torch.nn.CrossEntropyLoss()"
      ],
      "metadata": {
        "id": "kDIuJZmQTAgC"
      },
      "execution_count": 13,
      "outputs": []
    },
    {
      "cell_type": "code",
      "source": [
        "optimizer = torch.optim.Adam(model.parameters(), lr=0.0003)\n",
        "avg_loss = AverageMeter()"
      ],
      "metadata": {
        "id": "n3pdcMqJVrbR"
      },
      "execution_count": 14,
      "outputs": []
    },
    {
      "cell_type": "code",
      "source": [
        "batch_size = 64\n",
        "epochs = 20\n",
        "iteration = 1\n",
        "model = model.to(device)\n",
        "model.train()\n",
        "for epoch in range(1, epochs + 1):\n",
        "    for X_mini_batch, y_mini_batch in batch_generator(X_train, y_train, batch_size, device):\n",
        "        # Forward Propagation\n",
        "        y_pred = model(X_mini_batch) # Compute and print loss\n",
        "        #loss = criterion(y_pred, y_mini_batch) # if we use MSELoss\n",
        "        loss = criterion(y_pred, y_mini_batch.long()) # if we use CrossEntropyLoss\n",
        "        avg_loss.update(loss.item(), X_mini_batch.size(0))\n",
        "        if iteration % 100 == 0:\n",
        "            print('epoch: ', epoch,' iteration: ', iteration, ' avg loss: ', avg_loss.val)    # Zero the gradients\n",
        "        optimizer.zero_grad()\n",
        "\n",
        "        # perform a backward pass (backpropagation)\n",
        "        loss.backward()\n",
        "\n",
        "        # Update the parameters\n",
        "        optimizer.step()\n",
        "        \n",
        "        iteration += 1"
      ],
      "metadata": {
        "colab": {
          "base_uri": "https://localhost:8080/"
        },
        "id": "5O7TP-HmV5Vl",
        "outputId": "9057793d-f8f1-4e71-a059-edb15670b243"
      },
      "execution_count": 15,
      "outputs": [
        {
          "output_type": "stream",
          "name": "stdout",
          "text": [
            "epoch:  1  iteration:  100  avg loss:  1.2848687171936035\n",
            "epoch:  1  iteration:  200  avg loss:  0.6270663738250732\n",
            "epoch:  1  iteration:  300  avg loss:  0.5316914916038513\n",
            "epoch:  1  iteration:  400  avg loss:  0.2796105444431305\n",
            "epoch:  1  iteration:  500  avg loss:  0.3436203896999359\n",
            "epoch:  1  iteration:  600  avg loss:  0.34926241636276245\n",
            "epoch:  1  iteration:  700  avg loss:  0.44928857684135437\n",
            "epoch:  1  iteration:  800  avg loss:  0.24121420085430145\n",
            "epoch:  1  iteration:  900  avg loss:  0.12612499296665192\n",
            "epoch:  2  iteration:  1000  avg loss:  0.18252795934677124\n",
            "epoch:  2  iteration:  1100  avg loss:  0.27793240547180176\n",
            "epoch:  2  iteration:  1200  avg loss:  0.07641780376434326\n",
            "epoch:  2  iteration:  1300  avg loss:  0.12335626780986786\n",
            "epoch:  2  iteration:  1400  avg loss:  0.16164161264896393\n",
            "epoch:  2  iteration:  1500  avg loss:  0.08515890687704086\n",
            "epoch:  2  iteration:  1600  avg loss:  0.3144090473651886\n",
            "epoch:  2  iteration:  1700  avg loss:  0.3596653640270233\n",
            "epoch:  2  iteration:  1800  avg loss:  0.19200217723846436\n",
            "epoch:  3  iteration:  1900  avg loss:  0.2332397997379303\n",
            "epoch:  3  iteration:  2000  avg loss:  0.07104086875915527\n",
            "epoch:  3  iteration:  2100  avg loss:  0.15227290987968445\n",
            "epoch:  3  iteration:  2200  avg loss:  0.10931994765996933\n",
            "epoch:  3  iteration:  2300  avg loss:  0.0438280925154686\n",
            "epoch:  3  iteration:  2400  avg loss:  0.0797620341181755\n",
            "epoch:  3  iteration:  2500  avg loss:  0.12014143168926239\n",
            "epoch:  3  iteration:  2600  avg loss:  0.1243327334523201\n",
            "epoch:  3  iteration:  2700  avg loss:  0.17428511381149292\n",
            "epoch:  3  iteration:  2800  avg loss:  0.018018541857600212\n",
            "epoch:  4  iteration:  2900  avg loss:  0.11620070785284042\n",
            "epoch:  4  iteration:  3000  avg loss:  0.11628639698028564\n",
            "epoch:  4  iteration:  3100  avg loss:  0.10807450115680695\n",
            "epoch:  4  iteration:  3200  avg loss:  0.11607665568590164\n",
            "epoch:  4  iteration:  3300  avg loss:  0.03686197102069855\n",
            "epoch:  4  iteration:  3400  avg loss:  0.10311493277549744\n",
            "epoch:  4  iteration:  3500  avg loss:  0.11132026463747025\n",
            "epoch:  4  iteration:  3600  avg loss:  0.16874980926513672\n",
            "epoch:  4  iteration:  3700  avg loss:  0.05474042147397995\n",
            "epoch:  5  iteration:  3800  avg loss:  0.03188252076506615\n",
            "epoch:  5  iteration:  3900  avg loss:  0.11501095443964005\n",
            "epoch:  5  iteration:  4000  avg loss:  0.03953509405255318\n",
            "epoch:  5  iteration:  4100  avg loss:  0.03662542998790741\n",
            "epoch:  5  iteration:  4200  avg loss:  0.07278991490602493\n",
            "epoch:  5  iteration:  4300  avg loss:  0.030428694561123848\n",
            "epoch:  5  iteration:  4400  avg loss:  0.01927974447607994\n",
            "epoch:  5  iteration:  4500  avg loss:  0.1528322994709015\n",
            "epoch:  5  iteration:  4600  avg loss:  0.2721567749977112\n",
            "epoch:  6  iteration:  4700  avg loss:  0.06974697858095169\n",
            "epoch:  6  iteration:  4800  avg loss:  0.04160009324550629\n",
            "epoch:  6  iteration:  4900  avg loss:  0.057637788355350494\n",
            "epoch:  6  iteration:  5000  avg loss:  0.03066391870379448\n",
            "epoch:  6  iteration:  5100  avg loss:  0.10452225804328918\n",
            "epoch:  6  iteration:  5200  avg loss:  0.025781575590372086\n",
            "epoch:  6  iteration:  5300  avg loss:  0.1392700970172882\n",
            "epoch:  6  iteration:  5400  avg loss:  0.07938750833272934\n",
            "epoch:  6  iteration:  5500  avg loss:  0.07705509662628174\n",
            "epoch:  6  iteration:  5600  avg loss:  0.025398263707756996\n",
            "epoch:  7  iteration:  5700  avg loss:  0.04542938247323036\n",
            "epoch:  7  iteration:  5800  avg loss:  0.04491906613111496\n",
            "epoch:  7  iteration:  5900  avg loss:  0.066667839884758\n",
            "epoch:  7  iteration:  6000  avg loss:  0.06734975427389145\n",
            "epoch:  7  iteration:  6100  avg loss:  0.08725015819072723\n",
            "epoch:  7  iteration:  6200  avg loss:  0.06018305569887161\n",
            "epoch:  7  iteration:  6300  avg loss:  0.03599405661225319\n",
            "epoch:  7  iteration:  6400  avg loss:  0.08087807148694992\n",
            "epoch:  7  iteration:  6500  avg loss:  0.11527060717344284\n",
            "epoch:  8  iteration:  6600  avg loss:  0.12110753357410431\n",
            "epoch:  8  iteration:  6700  avg loss:  0.1511271893978119\n",
            "epoch:  8  iteration:  6800  avg loss:  0.048552315682172775\n",
            "epoch:  8  iteration:  6900  avg loss:  0.02538428083062172\n",
            "epoch:  8  iteration:  7000  avg loss:  0.12308194488286972\n",
            "epoch:  8  iteration:  7100  avg loss:  0.03628396987915039\n",
            "epoch:  8  iteration:  7200  avg loss:  0.0727730318903923\n",
            "epoch:  8  iteration:  7300  avg loss:  0.02079196646809578\n",
            "epoch:  8  iteration:  7400  avg loss:  0.014446325600147247\n",
            "epoch:  8  iteration:  7500  avg loss:  0.12923191487789154\n",
            "epoch:  9  iteration:  7600  avg loss:  0.023984726518392563\n",
            "epoch:  9  iteration:  7700  avg loss:  0.019281921908259392\n",
            "epoch:  9  iteration:  7800  avg loss:  0.11452006548643112\n",
            "epoch:  9  iteration:  7900  avg loss:  0.050383251160383224\n",
            "epoch:  9  iteration:  8000  avg loss:  0.12535680830478668\n",
            "epoch:  9  iteration:  8100  avg loss:  0.04024183377623558\n",
            "epoch:  9  iteration:  8200  avg loss:  0.07533679157495499\n",
            "epoch:  9  iteration:  8300  avg loss:  0.07593441754579544\n",
            "epoch:  9  iteration:  8400  avg loss:  0.02330218069255352\n",
            "epoch:  10  iteration:  8500  avg loss:  0.01665109023451805\n",
            "epoch:  10  iteration:  8600  avg loss:  0.002114716451615095\n",
            "epoch:  10  iteration:  8700  avg loss:  0.05692116916179657\n",
            "epoch:  10  iteration:  8800  avg loss:  0.10176163166761398\n",
            "epoch:  10  iteration:  8900  avg loss:  0.0873851478099823\n",
            "epoch:  10  iteration:  9000  avg loss:  0.039392728358507156\n",
            "epoch:  10  iteration:  9100  avg loss:  0.02192412130534649\n",
            "epoch:  10  iteration:  9200  avg loss:  0.012695892713963985\n",
            "epoch:  10  iteration:  9300  avg loss:  0.06410161405801773\n",
            "epoch:  11  iteration:  9400  avg loss:  0.029522866010665894\n",
            "epoch:  11  iteration:  9500  avg loss:  0.03333943709731102\n",
            "epoch:  11  iteration:  9600  avg loss:  0.07020002603530884\n",
            "epoch:  11  iteration:  9700  avg loss:  0.01205351296812296\n",
            "epoch:  11  iteration:  9800  avg loss:  0.18001338839530945\n",
            "epoch:  11  iteration:  9900  avg loss:  0.03573606535792351\n",
            "epoch:  11  iteration:  10000  avg loss:  0.12018753588199615\n",
            "epoch:  11  iteration:  10100  avg loss:  0.10489214956760406\n",
            "epoch:  11  iteration:  10200  avg loss:  0.064083993434906\n",
            "epoch:  11  iteration:  10300  avg loss:  0.014173788949847221\n",
            "epoch:  12  iteration:  10400  avg loss:  0.034864120185375214\n",
            "epoch:  12  iteration:  10500  avg loss:  0.05335394665598869\n",
            "epoch:  12  iteration:  10600  avg loss:  0.028645318001508713\n",
            "epoch:  12  iteration:  10700  avg loss:  0.0837116688489914\n",
            "epoch:  12  iteration:  10800  avg loss:  0.10237879306077957\n",
            "epoch:  12  iteration:  10900  avg loss:  0.029709545895457268\n",
            "epoch:  12  iteration:  11000  avg loss:  0.030300596728920937\n",
            "epoch:  12  iteration:  11100  avg loss:  0.06856822967529297\n",
            "epoch:  12  iteration:  11200  avg loss:  0.0030603031627833843\n",
            "epoch:  13  iteration:  11300  avg loss:  0.07016758620738983\n",
            "epoch:  13  iteration:  11400  avg loss:  0.05337442830204964\n",
            "epoch:  13  iteration:  11500  avg loss:  0.024231508374214172\n",
            "epoch:  13  iteration:  11600  avg loss:  0.06126455217599869\n",
            "epoch:  13  iteration:  11700  avg loss:  0.013402367942035198\n",
            "epoch:  13  iteration:  11800  avg loss:  0.17206589877605438\n",
            "epoch:  13  iteration:  11900  avg loss:  0.0814400464296341\n",
            "epoch:  13  iteration:  12000  avg loss:  0.09943124651908875\n",
            "epoch:  13  iteration:  12100  avg loss:  0.037650588899850845\n",
            "epoch:  14  iteration:  12200  avg loss:  0.024743976071476936\n",
            "epoch:  14  iteration:  12300  avg loss:  0.025060322135686874\n",
            "epoch:  14  iteration:  12400  avg loss:  0.07865338772535324\n",
            "epoch:  14  iteration:  12500  avg loss:  0.0023052184842526913\n",
            "epoch:  14  iteration:  12600  avg loss:  0.10055387765169144\n",
            "epoch:  14  iteration:  12700  avg loss:  0.07238331437110901\n",
            "epoch:  14  iteration:  12800  avg loss:  0.07862825691699982\n",
            "epoch:  14  iteration:  12900  avg loss:  0.11105652153491974\n",
            "epoch:  14  iteration:  13000  avg loss:  0.005492947995662689\n",
            "epoch:  14  iteration:  13100  avg loss:  0.10821281373500824\n",
            "epoch:  15  iteration:  13200  avg loss:  0.041486646980047226\n",
            "epoch:  15  iteration:  13300  avg loss:  0.016617778688669205\n",
            "epoch:  15  iteration:  13400  avg loss:  0.006446531508117914\n",
            "epoch:  15  iteration:  13500  avg loss:  0.011017153039574623\n",
            "epoch:  15  iteration:  13600  avg loss:  0.057381533086299896\n",
            "epoch:  15  iteration:  13700  avg loss:  0.005435748491436243\n",
            "epoch:  15  iteration:  13800  avg loss:  0.04709094762802124\n",
            "epoch:  15  iteration:  13900  avg loss:  0.1004382073879242\n",
            "epoch:  15  iteration:  14000  avg loss:  0.049870144575834274\n",
            "epoch:  16  iteration:  14100  avg loss:  0.01590605452656746\n",
            "epoch:  16  iteration:  14200  avg loss:  0.07965153455734253\n",
            "epoch:  16  iteration:  14300  avg loss:  0.14383140206336975\n",
            "epoch:  16  iteration:  14400  avg loss:  0.019366875290870667\n",
            "epoch:  16  iteration:  14500  avg loss:  0.034940753132104874\n",
            "epoch:  16  iteration:  14600  avg loss:  0.04257429391145706\n",
            "epoch:  16  iteration:  14700  avg loss:  0.0032409930136054754\n",
            "epoch:  16  iteration:  14800  avg loss:  0.015524981543421745\n",
            "epoch:  16  iteration:  14900  avg loss:  0.016712043434381485\n",
            "epoch:  16  iteration:  15000  avg loss:  0.010741644538939\n",
            "epoch:  17  iteration:  15100  avg loss:  0.018464121967554092\n",
            "epoch:  17  iteration:  15200  avg loss:  0.008580056019127369\n",
            "epoch:  17  iteration:  15300  avg loss:  0.026116589084267616\n",
            "epoch:  17  iteration:  15400  avg loss:  0.010354740545153618\n",
            "epoch:  17  iteration:  15500  avg loss:  0.12403929978609085\n",
            "epoch:  17  iteration:  15600  avg loss:  0.017415449023246765\n",
            "epoch:  17  iteration:  15700  avg loss:  0.017024992033839226\n",
            "epoch:  17  iteration:  15800  avg loss:  0.08510863780975342\n",
            "epoch:  17  iteration:  15900  avg loss:  0.055798206478357315\n",
            "epoch:  18  iteration:  16000  avg loss:  0.0023536095395684242\n",
            "epoch:  18  iteration:  16100  avg loss:  0.018545258790254593\n",
            "epoch:  18  iteration:  16200  avg loss:  0.12740646302700043\n",
            "epoch:  18  iteration:  16300  avg loss:  0.0982065424323082\n",
            "epoch:  18  iteration:  16400  avg loss:  0.2633852958679199\n",
            "epoch:  18  iteration:  16500  avg loss:  0.007219324819743633\n",
            "epoch:  18  iteration:  16600  avg loss:  0.02479187585413456\n",
            "epoch:  18  iteration:  16700  avg loss:  0.023486362770199776\n",
            "epoch:  18  iteration:  16800  avg loss:  0.003875097958371043\n",
            "epoch:  19  iteration:  16900  avg loss:  0.05096431449055672\n",
            "epoch:  19  iteration:  17000  avg loss:  0.023232100531458855\n",
            "epoch:  19  iteration:  17100  avg loss:  0.0964580699801445\n",
            "epoch:  19  iteration:  17200  avg loss:  0.016369974240660667\n",
            "epoch:  19  iteration:  17300  avg loss:  0.03321870043873787\n",
            "epoch:  19  iteration:  17400  avg loss:  0.03037816658616066\n",
            "epoch:  19  iteration:  17500  avg loss:  0.036243416368961334\n",
            "epoch:  19  iteration:  17600  avg loss:  0.006174711510539055\n",
            "epoch:  19  iteration:  17700  avg loss:  0.02919723652303219\n",
            "epoch:  19  iteration:  17800  avg loss:  0.017472533509135246\n",
            "epoch:  20  iteration:  17900  avg loss:  0.0028463720809668303\n",
            "epoch:  20  iteration:  18000  avg loss:  0.03019535541534424\n",
            "epoch:  20  iteration:  18100  avg loss:  0.07905901968479156\n",
            "epoch:  20  iteration:  18200  avg loss:  0.002710259985178709\n",
            "epoch:  20  iteration:  18300  avg loss:  0.05960003659129143\n",
            "epoch:  20  iteration:  18400  avg loss:  0.013424808159470558\n",
            "epoch:  20  iteration:  18500  avg loss:  0.07264666259288788\n",
            "epoch:  20  iteration:  18600  avg loss:  0.1907002329826355\n",
            "epoch:  20  iteration:  18700  avg loss:  0.030953971669077873\n"
          ]
        }
      ]
    },
    {
      "cell_type": "code",
      "source": [
        "def predict(x, model):\n",
        "    with torch.no_grad():\n",
        "        model.eval()\n",
        "        softmax = nn.Softmax(1)\n",
        "        y_pred = softmax(model(x))\n",
        "    return y_pred.argmax(1)"
      ],
      "metadata": {
        "id": "nw3-2VBoV5YF"
      },
      "execution_count": 16,
      "outputs": []
    },
    {
      "cell_type": "code",
      "source": [
        "# show the result of our model\n",
        "y_pred = predict(X_test.reshape(len(X_test), 1, 28, 28), model).cpu().numpy()\n",
        "print(classification_report(y_test.cpu().numpy(), y_pred))\n"
      ],
      "metadata": {
        "colab": {
          "base_uri": "https://localhost:8080/"
        },
        "id": "4Zwdhie4V5as",
        "outputId": "daf05c0d-f046-42a2-e81e-0d6b819f9dd8"
      },
      "execution_count": 17,
      "outputs": [
        {
          "output_type": "stream",
          "name": "stdout",
          "text": [
            "              precision    recall  f1-score   support\n",
            "\n",
            "         0.0       1.00      1.00      1.00       980\n",
            "         1.0       0.99      0.99      0.99      1135\n",
            "         2.0       0.99      0.99      0.99      1032\n",
            "         3.0       0.99      1.00      0.99      1010\n",
            "         4.0       1.00      0.99      0.99       982\n",
            "         5.0       0.99      0.99      0.99       892\n",
            "         6.0       1.00      0.99      0.99       958\n",
            "         7.0       0.98      0.99      0.99      1028\n",
            "         8.0       1.00      0.99      0.99       974\n",
            "         9.0       0.99      0.99      0.99      1009\n",
            "\n",
            "    accuracy                           0.99     10000\n",
            "   macro avg       0.99      0.99      0.99     10000\n",
            "weighted avg       0.99      0.99      0.99     10000\n",
            "\n"
          ]
        }
      ]
    },
    {
      "cell_type": "code",
      "source": [
        ""
      ],
      "metadata": {
        "id": "SoG4-bVYV5dW"
      },
      "execution_count": 17,
      "outputs": []
    },
    {
      "cell_type": "code",
      "source": [
        "def show_image(x, y_pred, y_true):\n",
        "    print('The true label is:', y_true)\n",
        "    print('The predicted label is:', y_pred)\n",
        "    plt.imshow(x.reshape(28, 28), cmap='gray')"
      ],
      "metadata": {
        "id": "VWoJo6tgbAcJ"
      },
      "execution_count": 18,
      "outputs": []
    },
    {
      "cell_type": "code",
      "source": [
        "idx = 3344\n",
        "show_image(X_test[idx].cpu().numpy(), y_pred[idx], y_test[idx].cpu().numpy())"
      ],
      "metadata": {
        "colab": {
          "base_uri": "https://localhost:8080/",
          "height": 302
        },
        "id": "u4GV-w0Qb1uZ",
        "outputId": "6a0c950e-82fb-4b0d-df79-df2b0650fcff"
      },
      "execution_count": 19,
      "outputs": [
        {
          "output_type": "stream",
          "name": "stdout",
          "text": [
            "The true label is: 6.0\n",
            "The predicted label is: 6\n"
          ]
        },
        {
          "output_type": "display_data",
          "data": {
            "text/plain": [
              "<Figure size 432x288 with 1 Axes>"
            ],
            "image/png": "[encoded data removed]"
          },
          "metadata": {
            "needs_background": "light"
          }
        }
      ]
    },
    {
      "cell_type": "code",
      "source": [
        ""
      ],
      "metadata": {
        "id": "Ffk8ripicl1v"
      },
      "execution_count": 19,
      "outputs": []
    },
    {
      "cell_type": "markdown",
      "source": [
        "# Adversarial Attack"
      ],
      "metadata": {
        "id": "EiQjEw1Bcqy3"
      }
    },
    {
      "cell_type": "markdown",
      "source": [
        "In this section, we will select an image from the test set and use the freeze the paramters of our model. Instead of optimizing the paramters, we will optimize the input image such that the model maximizes the probability of the targeted label by modifying the input image."
      ],
      "metadata": {
        "id": "lpwX6Uz5FxiD"
      }
    },
    {
      "cell_type": "code",
      "source": [
        "def freeze_model(model, freeze=True):\n",
        "    for param in model.parameters():\n",
        "        param.requires_grad = not freeze"
      ],
      "metadata": {
        "id": "dnPRHbYAeQS3"
      },
      "execution_count": 20,
      "outputs": []
    },
    {
      "cell_type": "code",
      "source": [
        "# Freeze the weights of the model.\n",
        "# Also, set the model to eval mode to disable the dropout layers.\n",
        "freeze_model(model, True)\n",
        "model = model.eval()"
      ],
      "metadata": {
        "id": "njof0gPOeQdJ"
      },
      "execution_count": 21,
      "outputs": []
    },
    {
      "cell_type": "code",
      "source": [
        "# targeted_y: the targted class that we want the model to predict given the \n",
        "#             image that we choose below after modification. This label will be \n",
        "#             predicted by the model after we create the adversarial image from \n",
        "#             the given image.\n",
        "targeted_y = 4\n",
        "\n",
        "# we choose a sample image from the test set to create the adversarial example\n",
        "idx = 1234\n",
        "sample_image = X_test[idx].clone().reshape(1, X_train.shape[1])\n",
        "sample_y_pred = y_pred[idx]\n",
        "sample_y_true = y_test[idx].clone().cpu().numpy()\n",
        "\n",
        "targeted_y = torch.tensor([targeted_y]).long().to(device)\n",
        "original_x = sample_image.detach().clone().reshape(1, 1, 28, 28).to(device)\n",
        "x = torch.tensor(original_x.clone().cpu().numpy(), device=device, requires_grad=True)\n",
        "show_image(sample_image.cpu().numpy(), sample_y_pred, sample_y_true)"
      ],
      "metadata": {
        "colab": {
          "base_uri": "https://localhost:8080/",
          "height": 302
        },
        "id": "vdGK18uJcvcu",
        "outputId": "15215380-a32f-47b1-9fe5-29aa580a66bd"
      },
      "execution_count": 22,
      "outputs": [
        {
          "output_type": "stream",
          "name": "stdout",
          "text": [
            "The true label is: 8.0\n",
            "The predicted label is: 8\n"
          ]
        },
        {
          "output_type": "display_data",
          "data": {
            "text/plain": [
              "<Figure size 432x288 with 1 Axes>"
            ],
            "image/png": "[encoded data removed]"
          },
          "metadata": {
            "needs_background": "light"
          }
        }
      ]
    },
    {
      "cell_type": "code",
      "source": [
        ""
      ],
      "metadata": {
        "id": "zzSXIW8MgX4E"
      },
      "execution_count": 22,
      "outputs": []
    },
    {
      "cell_type": "code",
      "source": [
        "# We create two objective functions: cross entropy and mean squared error.\n",
        "# The cross entropy criterion will be used to maximize the probability of the\n",
        "# targeted class and the mean squared error criterion is used to minimze the\n",
        "# difference between the original image and the modified (adversarial) image.\n",
        "criterion1 = nn.CrossEntropyLoss()\n",
        "criterion2 = nn.MSELoss()"
      ],
      "metadata": {
        "id": "zy4kxIcCfeDL"
      },
      "execution_count": 23,
      "outputs": []
    },
    {
      "cell_type": "code",
      "source": [
        "optimizer = torch.optim.SGD([x], lr=0.03)\n",
        "avg_loss = AverageMeter()"
      ],
      "metadata": {
        "id": "VPab3Ww1ftJL"
      },
      "execution_count": 24,
      "outputs": []
    },
    {
      "cell_type": "code",
      "source": [
        "epochs = 500000\n",
        "iteration = 1\n",
        "batch_size = 1\n",
        "\n",
        "for epoch in range(1, epochs + 1):\n",
        "    # Forward Propagation\n",
        "    targeted_y_pred = model(x) # Compute and print loss\n",
        "    #loss = criterion1(targeted_y_pred, targeted_y)    # Loss WITHOUT minimizing the difference between the original image and the synthesized image\n",
        "    loss = criterion1(targeted_y_pred, targeted_y) + criterion2(x, original_x)   # Loss WITH minimizing the difference between the original image and the synthesized image\n",
        "    avg_loss.update(loss.item(), x.size(0))\n",
        "    if iteration % 10000 == 0:\n",
        "        print('epoch: ', epoch,' iteration: ', iteration, ' avg loss: ', avg_loss.val)   \n",
        "    \n",
        "    # Zero the gradients\n",
        "    optimizer.zero_grad()\n",
        "\n",
        "    # perform a backward pass (backpropagation)\n",
        "    loss.backward()\n",
        "\n",
        "    # Update the parameters\n",
        "    optimizer.step()\n",
        "\n",
        "    iteration += 1"
      ],
      "metadata": {
        "colab": {
          "base_uri": "https://localhost:8080/"
        },
        "id": "DQ4Ek-upftj5",
        "outputId": "e083a5a9-c894-41ba-e098-20d560435f42"
      },
      "execution_count": 25,
      "outputs": [
        {
          "output_type": "stream",
          "name": "stdout",
          "text": [
            "epoch:  10000  iteration:  10000  avg loss:  0.09198906272649765\n",
            "epoch:  20000  iteration:  20000  avg loss:  0.08399336785078049\n",
            "epoch:  30000  iteration:  30000  avg loss:  0.08074918389320374\n",
            "epoch:  40000  iteration:  40000  avg loss:  0.07965526729822159\n",
            "epoch:  50000  iteration:  50000  avg loss:  0.07900606095790863\n",
            "epoch:  60000  iteration:  60000  avg loss:  0.07872308045625687\n",
            "epoch:  70000  iteration:  70000  avg loss:  0.07859789580106735\n",
            "epoch:  80000  iteration:  80000  avg loss:  0.07854384183883667\n",
            "epoch:  90000  iteration:  90000  avg loss:  0.0779203549027443\n",
            "epoch:  100000  iteration:  100000  avg loss:  0.07765548676252365\n",
            "epoch:  110000  iteration:  110000  avg loss:  0.07752396166324615\n",
            "epoch:  120000  iteration:  120000  avg loss:  0.07742372155189514\n",
            "epoch:  130000  iteration:  130000  avg loss:  0.07726088911294937\n",
            "epoch:  140000  iteration:  140000  avg loss:  0.0770735964179039\n",
            "epoch:  150000  iteration:  150000  avg loss:  0.07698501646518707\n",
            "epoch:  160000  iteration:  160000  avg loss:  0.07695034891366959\n",
            "epoch:  170000  iteration:  170000  avg loss:  0.07656378298997879\n",
            "epoch:  180000  iteration:  180000  avg loss:  0.07336215674877167\n",
            "epoch:  190000  iteration:  190000  avg loss:  0.07097510248422623\n",
            "epoch:  200000  iteration:  200000  avg loss:  0.06991700828075409\n",
            "epoch:  210000  iteration:  210000  avg loss:  0.06954751163721085\n",
            "epoch:  220000  iteration:  220000  avg loss:  0.06925170123577118\n",
            "epoch:  230000  iteration:  230000  avg loss:  0.06903868168592453\n",
            "epoch:  240000  iteration:  240000  avg loss:  0.06885222345590591\n",
            "epoch:  250000  iteration:  250000  avg loss:  0.06869497150182724\n",
            "epoch:  260000  iteration:  260000  avg loss:  0.06858604401350021\n",
            "epoch:  270000  iteration:  270000  avg loss:  0.06854463368654251\n",
            "epoch:  280000  iteration:  280000  avg loss:  0.06851979345083237\n",
            "epoch:  290000  iteration:  290000  avg loss:  0.06843008100986481\n",
            "epoch:  300000  iteration:  300000  avg loss:  0.06793728470802307\n",
            "epoch:  310000  iteration:  310000  avg loss:  0.0676906481385231\n",
            "epoch:  320000  iteration:  320000  avg loss:  0.06763511151075363\n",
            "epoch:  330000  iteration:  330000  avg loss:  0.06758878380060196\n",
            "epoch:  340000  iteration:  340000  avg loss:  0.0675777792930603\n",
            "epoch:  350000  iteration:  350000  avg loss:  0.06757470965385437\n",
            "epoch:  360000  iteration:  360000  avg loss:  0.06757420301437378\n",
            "epoch:  370000  iteration:  370000  avg loss:  0.06757380068302155\n",
            "epoch:  380000  iteration:  380000  avg loss:  0.06757364422082901\n",
            "epoch:  390000  iteration:  390000  avg loss:  0.06757374852895737\n",
            "epoch:  400000  iteration:  400000  avg loss:  0.06757358461618423\n",
            "epoch:  410000  iteration:  410000  avg loss:  0.06757394969463348\n",
            "epoch:  420000  iteration:  420000  avg loss:  0.0675736591219902\n",
            "epoch:  430000  iteration:  430000  avg loss:  0.06757377088069916\n",
            "epoch:  440000  iteration:  440000  avg loss:  0.0675734281539917\n",
            "epoch:  450000  iteration:  450000  avg loss:  0.06757363677024841\n",
            "epoch:  460000  iteration:  460000  avg loss:  0.06757382303476334\n",
            "epoch:  470000  iteration:  470000  avg loss:  0.06757396459579468\n",
            "epoch:  480000  iteration:  480000  avg loss:  0.06757410615682602\n",
            "epoch:  490000  iteration:  490000  avg loss:  0.06757362931966782\n",
            "epoch:  500000  iteration:  500000  avg loss:  0.06757371127605438\n"
          ]
        }
      ]
    },
    {
      "cell_type": "code",
      "source": [
        "# get the model prediction of both the original image and the adversarial image.\n",
        "y_pred_original = predict(original_x, model)\n",
        "y_pred_adversarial = predict(x, model)\n",
        "y_pred_original, y_pred_adversarial"
      ],
      "metadata": {
        "colab": {
          "base_uri": "https://localhost:8080/"
        },
        "id": "uSU0qMdYftmw",
        "outputId": "554166dd-872d-445f-e764-970a58f0e7a6"
      },
      "execution_count": 26,
      "outputs": [
        {
          "output_type": "execute_result",
          "data": {
            "text/plain": [
              "(tensor([8], device='cuda:0'), tensor([4], device='cuda:0'))"
            ]
          },
          "metadata": {},
          "execution_count": 26
        }
      ]
    },
    {
      "cell_type": "code",
      "source": [
        "# Show the original image\n",
        "show_image(original_x.detach().clone().cpu().numpy(), y_pred_original.clone().cpu().numpy(), sample_y_true)"
      ],
      "metadata": {
        "colab": {
          "base_uri": "https://localhost:8080/",
          "height": 302
        },
        "id": "WYhbiphMhuBK",
        "outputId": "5b695de1-e69e-4f68-dcf6-a6f039e3c669"
      },
      "execution_count": 29,
      "outputs": [
        {
          "output_type": "stream",
          "name": "stdout",
          "text": [
            "The true label is: 8.0\n",
            "The predicted label is: [8]\n"
          ]
        },
        {
          "output_type": "display_data",
          "data": {
            "text/plain": [
              "<Figure size 432x288 with 1 Axes>"
            ],
            "image/png": "[encoded data removed]"
          },
          "metadata": {
            "needs_background": "light"
          }
        }
      ]
    },
    {
      "cell_type": "code",
      "source": [
        "# Show the adversarial image\n",
        "show_image(x.detach().clone().cpu().numpy(), y_pred_adversarial.clone().cpu().numpy(), sample_y_true)"
      ],
      "metadata": {
        "colab": {
          "base_uri": "https://localhost:8080/",
          "height": 302
        },
        "id": "p6ysARXBh0Ig",
        "outputId": "c4d79a3c-0571-4e6e-c89f-8e07c0bf2250"
      },
      "execution_count": 30,
      "outputs": [
        {
          "output_type": "stream",
          "name": "stdout",
          "text": [
            "The true label is: 8.0\n",
            "The predicted label is: [4]\n"
          ]
        },
        {
          "output_type": "display_data",
          "data": {
            "text/plain": [
              "<Figure size 432x288 with 1 Axes>"
            ],
            "image/png": "[encoded data removed]"
          },
          "metadata": {
            "needs_background": "light"
          }
        }
      ]
    },
    {
      "cell_type": "code",
      "source": [
        ""
      ],
      "metadata": {
        "id": "iAUhd2dDiWhY"
      },
      "execution_count": 28,
      "outputs": []
    }
  ]
}